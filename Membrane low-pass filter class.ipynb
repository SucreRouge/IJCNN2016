{
 "cells": [
  {
   "cell_type": "markdown",
   "metadata": {},
   "source": [
    "# Membrane low-pass filter class\n",
    "## This class automates the process to read and generate the equivalent output of a low-pass membrane behaviour."
   ]
  },
  {
   "cell_type": "code",
   "execution_count": 2,
   "metadata": {
    "collapsed": false
   },
   "outputs": [
    {
     "name": "stdout",
     "output_type": "stream",
     "text": [
      "Overwriting membrane_lowpass_md.py\n"
     ]
    }
   ],
   "source": [
    "%%file membrane_lowpass_md.py\n",
    "\n",
    "import numpy\n",
    "\n",
    "class membrane_lowpass(object):\n",
    "    \n",
    "    def __init__(self, Number_of_Neurons, tau):\n",
    "        '''\n",
    "        Initializes the neuron membranes.\n",
    "        Number_of_Neurons: total number of neurons to be simulated\n",
    "        tau: time constant (in seconds)\n",
    "        '''\n",
    "        self.neurons = numpy.zeros(Number_of_Neurons)\n",
    "        self.times = numpy.zeros(Number_of_Neurons)\n",
    "        self.tau = tau\n",
    "    \n",
    "    def process_spikes(self, spikes, current_time):\n",
    "        '''\n",
    "        Processes the received spikes at the current time updating their membrane values.\n",
    "        spikes: list with the indexes of the neurons who spiked.\n",
    "        current_time: the time the neurons spiked (float)\n",
    "        '''\n",
    "        delta_t = current_time-self.times[spikes] # Calculates the difference between the last time they spiked\n",
    "        current_values = self.neurons[spikes]*numpy.exp(-delta_t/self.tau) # Calculates the current values\n",
    "        self.times[spikes]=numpy.ones(len(spikes))*current_time # Updates the last time they spiked\n",
    "        self.neurons[spikes] = current_values + numpy.ones(len(spikes)) # Updates the neuron membrane values\n",
    "\n",
    "    def check_values(self, current_time):\n",
    "        '''\n",
    "        Returns the current membrane values at the specified time.\n",
    "        current_time: time used to calculate the membrane values.\n",
    "        '''\n",
    "        delta_t = current_time-self.times # Calculates the time since last spike\n",
    "        return self.neurons*numpy.exp(-delta_t/self.tau) # Calculates the current values\n",
    "        "
   ]
  },
  {
   "cell_type": "code",
   "execution_count": null,
   "metadata": {
    "collapsed": true
   },
   "outputs": [],
   "source": []
  }
 ],
 "metadata": {
  "kernelspec": {
   "display_name": "Python 2",
   "language": "python",
   "name": "python2"
  },
  "language_info": {
   "codemirror_mode": {
    "name": "ipython",
    "version": 2
   },
   "file_extension": ".py",
   "mimetype": "text/x-python",
   "name": "python",
   "nbconvert_exporter": "python",
   "pygments_lexer": "ipython2",
   "version": "2.7.10"
  }
 },
 "nbformat": 4,
 "nbformat_minor": 0
}
